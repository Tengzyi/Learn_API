{
 "cells": [
  {
   "cell_type": "code",
   "execution_count": 74,
   "metadata": {
    "ExecuteTime": {
     "end_time": "2020-04-02T12:53:55.104699Z",
     "start_time": "2020-04-02T12:53:55.100710Z"
    }
   },
   "outputs": [],
   "source": [
    "import requests\n",
    "import json\n",
    "import base64\n",
    "import pandas as pd\n",
    "from pandas.io.json import json_normalize\n"
   ]
  },
  {
   "cell_type": "markdown",
   "metadata": {},
   "source": [
    "# Azure"
   ]
  },
  {
   "cell_type": "code",
   "execution_count": 75,
   "metadata": {
    "ExecuteTime": {
     "end_time": "2020-04-02T12:53:55.452603Z",
     "start_time": "2020-04-02T12:53:55.450569Z"
    }
   },
   "outputs": [],
   "source": [
    "KEY = '7c8046139b42476c9024eb52305ae296'\n",
    "\n",
    "BASE_URL = 'https://eastasia.api.cognitive.microsoft.com/face/v1.0/detect' \n"
   ]
  },
  {
   "cell_type": "code",
   "execution_count": 76,
   "metadata": {
    "ExecuteTime": {
     "end_time": "2020-04-02T12:53:55.673246Z",
     "start_time": "2020-04-02T12:53:55.670254Z"
    }
   },
   "outputs": [],
   "source": [
    "HEADERS = {\n",
    "    # Request headers\n",
    "    'Content-Type': 'application/json',\n",
    "    'Ocp-Apim-Subscription-Key': '{}'.format(KEY),\n",
    "}\n",
    "\n",
    "img_url = 'http://newmedia.nfu.edu.cn/wcy/wp-content/uploads/2018/04/post_20180424__NFU_DoraHacks_imoji%E5%9B%A2%E9%98%9F.jpg'\n"
   ]
  },
  {
   "cell_type": "code",
   "execution_count": 77,
   "metadata": {
    "ExecuteTime": {
     "end_time": "2020-04-02T12:53:55.898850Z",
     "start_time": "2020-04-02T12:53:55.890280Z"
    }
   },
   "outputs": [],
   "source": [
    "data = {\n",
    "    'url': '{}'.format(img_url),\n",
    "}\n",
    "payload = {\n",
    "    'returnFaceId': 'true',\n",
    "    'returnFaceLandmarks': 'flase',\n",
    "    'returnFaceAttributes': '{}'.format('age,gender,glasses,emotion'), \n",
    "}"
   ]
  },
  {
   "cell_type": "code",
   "execution_count": 78,
   "metadata": {
    "ExecuteTime": {
     "end_time": "2020-04-02T12:53:56.704954Z",
     "start_time": "2020-04-02T12:53:56.037809Z"
    }
   },
   "outputs": [
    {
     "data": {
      "text/plain": [
       "<Response [401]>"
      ]
     },
     "execution_count": 78,
     "metadata": {},
     "output_type": "execute_result"
    }
   ],
   "source": [
    "r = requests.post(BASE_URL, data=json.dumps(data), params=payload, headers=HEADERS)\n",
    "\n",
    "r.status_code\n",
    "r.json()\n",
    "r"
   ]
  },
  {
   "cell_type": "markdown",
   "metadata": {
    "ExecuteTime": {
     "end_time": "2020-04-02T07:15:18.372582Z",
     "start_time": "2020-04-02T07:15:18.367539Z"
    }
   },
   "source": [
    "# Face ++"
   ]
  },
  {
   "cell_type": "code",
   "execution_count": 79,
   "metadata": {
    "ExecuteTime": {
     "end_time": "2020-04-02T12:53:56.710001Z",
     "start_time": "2020-04-02T12:53:56.705956Z"
    }
   },
   "outputs": [],
   "source": [
    "import requests\n",
    "api_secret = \"VNIdC6Cvmmmf5CnsQgkPUxQQL0iGThXl\"\n",
    "api_key = 'wNuZwzLRRI5RKFj_8EWjEht_HTrPtvRo'\n",
    "\n",
    "BASE_URL = 'https://api-cn.faceplusplus.com/facepp/v3/detect' \n",
    "img_url = 'http://newmedia.nfu.edu.cn/wcy/wp-content/uploads/2018/04/post_20180424__NFU_DoraHacks_imoji%E5%9B%A2%E9%98%9F.jpg'\n"
   ]
  },
  {
   "cell_type": "code",
   "execution_count": 80,
   "metadata": {
    "ExecuteTime": {
     "end_time": "2020-04-02T12:53:56.736499Z",
     "start_time": "2020-04-02T12:53:56.711898Z"
    }
   },
   "outputs": [],
   "source": [
    "headers = {\n",
    "    'Content-Type': 'application/json',\n",
    "}\n",
    "\n",
    "payload = {\n",
    "    \"image_url\":img_url,\n",
    "    'api_key': api_key,\n",
    "    'api_secret': api_secret,\n",
    "    'return_attributes':'gender,age,smiling,emotion', \n",
    "}"
   ]
  },
  {
   "cell_type": "code",
   "execution_count": 81,
   "metadata": {
    "ExecuteTime": {
     "end_time": "2020-04-02T12:53:57.741000Z",
     "start_time": "2020-04-02T12:53:56.743481Z"
    }
   },
   "outputs": [],
   "source": [
    "r = requests.post(BASE_URL, params=payload, headers=headers)\n",
    "\n",
    "# r.status_code\n",
    "# print(r.content)"
   ]
  },
  {
   "cell_type": "code",
   "execution_count": 82,
   "metadata": {
    "ExecuteTime": {
     "end_time": "2020-04-02T12:53:57.750978Z",
     "start_time": "2020-04-02T12:53:57.741997Z"
    }
   },
   "outputs": [
    {
     "data": {
      "text/plain": [
       "{'request_id': '1585832038,747c2c2f-62ca-4d93-9194-7901a31db0fb',\n",
       " 'time_used': 568,\n",
       " 'faces': [{'face_token': '52b408e7950610f4acd97a3694f02a3b',\n",
       "   'face_rectangle': {'top': 123, 'left': 138, 'width': 90, 'height': 90},\n",
       "   'attributes': {'gender': {'value': 'Male'},\n",
       "    'age': {'value': 23},\n",
       "    'smile': {'value': 99.995, 'threshold': 50.0},\n",
       "    'emotion': {'anger': 0.059,\n",
       "     'disgust': 0.059,\n",
       "     'fear': 0.059,\n",
       "     'happiness': 42.294,\n",
       "     'neutral': 52.431,\n",
       "     'sadness': 4.92,\n",
       "     'surprise': 0.179}}},\n",
       "  {'face_token': 'ce5ae4dc76f997888e23e919f78c2d5b',\n",
       "   'face_rectangle': {'top': 122, 'left': 373, 'width': 65, 'height': 65},\n",
       "   'attributes': {'gender': {'value': 'Female'},\n",
       "    'age': {'value': 37},\n",
       "    'smile': {'value': 98.866, 'threshold': 50.0},\n",
       "    'emotion': {'anger': 0.169,\n",
       "     'disgust': 7.28,\n",
       "     'fear': 0.138,\n",
       "     'happiness': 17.689,\n",
       "     'neutral': 8.067,\n",
       "     'sadness': 66.519,\n",
       "     'surprise': 0.138}}},\n",
       "  {'face_token': 'fd6a9cea80f34670372261658f68379e',\n",
       "   'face_rectangle': {'top': 46, 'left': 675, 'width': 54, 'height': 54},\n",
       "   'attributes': {'gender': {'value': 'Male'},\n",
       "    'age': {'value': 23},\n",
       "    'smile': {'value': 100.0, 'threshold': 50.0},\n",
       "    'emotion': {'anger': 0.0,\n",
       "     'disgust': 0.0,\n",
       "     'fear': 0.0,\n",
       "     'happiness': 99.996,\n",
       "     'neutral': 0.001,\n",
       "     'sadness': 0.002,\n",
       "     'surprise': 0.001}}},\n",
       "  {'face_token': 'ced6f3b543fc84a007309d82d94571df',\n",
       "   'face_rectangle': {'top': 98, 'left': 235, 'width': 53, 'height': 53},\n",
       "   'attributes': {'gender': {'value': 'Female'},\n",
       "    'age': {'value': 22},\n",
       "    'smile': {'value': 99.997, 'threshold': 50.0},\n",
       "    'emotion': {'anger': 0.0,\n",
       "     'disgust': 0.001,\n",
       "     'fear': 0.0,\n",
       "     'happiness': 99.99,\n",
       "     'neutral': 0.009,\n",
       "     'sadness': 0.0,\n",
       "     'surprise': 0.0}}},\n",
       "  {'face_token': '68ed5c65e936feb652c092a28b783778',\n",
       "   'face_rectangle': {'top': 75, 'left': 444, 'width': 52, 'height': 52},\n",
       "   'attributes': {'gender': {'value': 'Female'},\n",
       "    'age': {'value': 28},\n",
       "    'smile': {'value': 99.999, 'threshold': 50.0},\n",
       "    'emotion': {'anger': 0.001,\n",
       "     'disgust': 0.001,\n",
       "     'fear': 0.027,\n",
       "     'happiness': 99.933,\n",
       "     'neutral': 0.027,\n",
       "     'sadness': 0.01,\n",
       "     'surprise': 0.001}}},\n",
       "  {'face_token': 'afa4245ad59620abc2217b9eaee7e752',\n",
       "   'face_rectangle': {'top': 98, 'left': 537, 'width': 48, 'height': 48}}],\n",
       " 'image_id': 'TfC1AByqtXhfuQ6DruqVww==',\n",
       " 'face_num': 6}"
      ]
     },
     "execution_count": 82,
     "metadata": {},
     "output_type": "execute_result"
    }
   ],
   "source": [
    "results = r.json()\n",
    "results"
   ]
  },
  {
   "cell_type": "code",
   "execution_count": 83,
   "metadata": {
    "ExecuteTime": {
     "end_time": "2020-04-02T12:53:57.850693Z",
     "start_time": "2020-04-02T12:53:57.754197Z"
    }
   },
   "outputs": [
    {
     "data": {
      "text/plain": [
       "[{'face_token': '52b408e7950610f4acd97a3694f02a3b',\n",
       "  'face_rectangle': {'top': 123, 'left': 138, 'width': 90, 'height': 90},\n",
       "  'attributes': {'gender': {'value': 'Male'},\n",
       "   'age': {'value': 23},\n",
       "   'smile': {'value': 99.995, 'threshold': 50.0},\n",
       "   'emotion': {'anger': 0.059,\n",
       "    'disgust': 0.059,\n",
       "    'fear': 0.059,\n",
       "    'happiness': 42.294,\n",
       "    'neutral': 52.431,\n",
       "    'sadness': 4.92,\n",
       "    'surprise': 0.179}}},\n",
       " {'face_token': 'ce5ae4dc76f997888e23e919f78c2d5b',\n",
       "  'face_rectangle': {'top': 122, 'left': 373, 'width': 65, 'height': 65},\n",
       "  'attributes': {'gender': {'value': 'Female'},\n",
       "   'age': {'value': 37},\n",
       "   'smile': {'value': 98.866, 'threshold': 50.0},\n",
       "   'emotion': {'anger': 0.169,\n",
       "    'disgust': 7.28,\n",
       "    'fear': 0.138,\n",
       "    'happiness': 17.689,\n",
       "    'neutral': 8.067,\n",
       "    'sadness': 66.519,\n",
       "    'surprise': 0.138}}},\n",
       " {'face_token': 'fd6a9cea80f34670372261658f68379e',\n",
       "  'face_rectangle': {'top': 46, 'left': 675, 'width': 54, 'height': 54},\n",
       "  'attributes': {'gender': {'value': 'Male'},\n",
       "   'age': {'value': 23},\n",
       "   'smile': {'value': 100.0, 'threshold': 50.0},\n",
       "   'emotion': {'anger': 0.0,\n",
       "    'disgust': 0.0,\n",
       "    'fear': 0.0,\n",
       "    'happiness': 99.996,\n",
       "    'neutral': 0.001,\n",
       "    'sadness': 0.002,\n",
       "    'surprise': 0.001}}},\n",
       " {'face_token': 'ced6f3b543fc84a007309d82d94571df',\n",
       "  'face_rectangle': {'top': 98, 'left': 235, 'width': 53, 'height': 53},\n",
       "  'attributes': {'gender': {'value': 'Female'},\n",
       "   'age': {'value': 22},\n",
       "   'smile': {'value': 99.997, 'threshold': 50.0},\n",
       "   'emotion': {'anger': 0.0,\n",
       "    'disgust': 0.001,\n",
       "    'fear': 0.0,\n",
       "    'happiness': 99.99,\n",
       "    'neutral': 0.009,\n",
       "    'sadness': 0.0,\n",
       "    'surprise': 0.0}}},\n",
       " {'face_token': '68ed5c65e936feb652c092a28b783778',\n",
       "  'face_rectangle': {'top': 75, 'left': 444, 'width': 52, 'height': 52},\n",
       "  'attributes': {'gender': {'value': 'Female'},\n",
       "   'age': {'value': 28},\n",
       "   'smile': {'value': 99.999, 'threshold': 50.0},\n",
       "   'emotion': {'anger': 0.001,\n",
       "    'disgust': 0.001,\n",
       "    'fear': 0.027,\n",
       "    'happiness': 99.933,\n",
       "    'neutral': 0.027,\n",
       "    'sadness': 0.01,\n",
       "    'surprise': 0.001}}},\n",
       " {'face_token': 'afa4245ad59620abc2217b9eaee7e752',\n",
       "  'face_rectangle': {'top': 98, 'left': 537, 'width': 48, 'height': 48}}]"
      ]
     },
     "execution_count": 83,
     "metadata": {},
     "output_type": "execute_result"
    }
   ],
   "source": [
    "results['faces']"
   ]
  },
  {
   "cell_type": "code",
   "execution_count": 84,
   "metadata": {
    "ExecuteTime": {
     "end_time": "2020-04-02T12:53:57.876625Z",
     "start_time": "2020-04-02T12:53:57.851690Z"
    }
   },
   "outputs": [
    {
     "data": {
      "text/html": [
       "<div>\n",
       "<style scoped>\n",
       "    .dataframe tbody tr th:only-of-type {\n",
       "        vertical-align: middle;\n",
       "    }\n",
       "\n",
       "    .dataframe tbody tr th {\n",
       "        vertical-align: top;\n",
       "    }\n",
       "\n",
       "    .dataframe thead th {\n",
       "        text-align: right;\n",
       "    }\n",
       "</style>\n",
       "<table border=\"1\" class=\"dataframe\">\n",
       "  <thead>\n",
       "    <tr style=\"text-align: right;\">\n",
       "      <th></th>\n",
       "      <th>face_token</th>\n",
       "      <th>face_rectangle.top</th>\n",
       "      <th>face_rectangle.left</th>\n",
       "      <th>face_rectangle.width</th>\n",
       "      <th>face_rectangle.height</th>\n",
       "      <th>attributes.gender.value</th>\n",
       "      <th>attributes.age.value</th>\n",
       "      <th>attributes.smile.value</th>\n",
       "      <th>attributes.smile.threshold</th>\n",
       "      <th>attributes.emotion.anger</th>\n",
       "      <th>attributes.emotion.disgust</th>\n",
       "      <th>attributes.emotion.fear</th>\n",
       "      <th>attributes.emotion.happiness</th>\n",
       "      <th>attributes.emotion.neutral</th>\n",
       "      <th>attributes.emotion.sadness</th>\n",
       "      <th>attributes.emotion.surprise</th>\n",
       "    </tr>\n",
       "  </thead>\n",
       "  <tbody>\n",
       "    <tr>\n",
       "      <th>0</th>\n",
       "      <td>52b408e7950610f4acd97a3694f02a3b</td>\n",
       "      <td>123</td>\n",
       "      <td>138</td>\n",
       "      <td>90</td>\n",
       "      <td>90</td>\n",
       "      <td>Male</td>\n",
       "      <td>23.0</td>\n",
       "      <td>99.995</td>\n",
       "      <td>50.0</td>\n",
       "      <td>0.059</td>\n",
       "      <td>0.059</td>\n",
       "      <td>0.059</td>\n",
       "      <td>42.294</td>\n",
       "      <td>52.431</td>\n",
       "      <td>4.920</td>\n",
       "      <td>0.179</td>\n",
       "    </tr>\n",
       "    <tr>\n",
       "      <th>1</th>\n",
       "      <td>ce5ae4dc76f997888e23e919f78c2d5b</td>\n",
       "      <td>122</td>\n",
       "      <td>373</td>\n",
       "      <td>65</td>\n",
       "      <td>65</td>\n",
       "      <td>Female</td>\n",
       "      <td>37.0</td>\n",
       "      <td>98.866</td>\n",
       "      <td>50.0</td>\n",
       "      <td>0.169</td>\n",
       "      <td>7.280</td>\n",
       "      <td>0.138</td>\n",
       "      <td>17.689</td>\n",
       "      <td>8.067</td>\n",
       "      <td>66.519</td>\n",
       "      <td>0.138</td>\n",
       "    </tr>\n",
       "    <tr>\n",
       "      <th>2</th>\n",
       "      <td>fd6a9cea80f34670372261658f68379e</td>\n",
       "      <td>46</td>\n",
       "      <td>675</td>\n",
       "      <td>54</td>\n",
       "      <td>54</td>\n",
       "      <td>Male</td>\n",
       "      <td>23.0</td>\n",
       "      <td>100.000</td>\n",
       "      <td>50.0</td>\n",
       "      <td>0.000</td>\n",
       "      <td>0.000</td>\n",
       "      <td>0.000</td>\n",
       "      <td>99.996</td>\n",
       "      <td>0.001</td>\n",
       "      <td>0.002</td>\n",
       "      <td>0.001</td>\n",
       "    </tr>\n",
       "    <tr>\n",
       "      <th>3</th>\n",
       "      <td>ced6f3b543fc84a007309d82d94571df</td>\n",
       "      <td>98</td>\n",
       "      <td>235</td>\n",
       "      <td>53</td>\n",
       "      <td>53</td>\n",
       "      <td>Female</td>\n",
       "      <td>22.0</td>\n",
       "      <td>99.997</td>\n",
       "      <td>50.0</td>\n",
       "      <td>0.000</td>\n",
       "      <td>0.001</td>\n",
       "      <td>0.000</td>\n",
       "      <td>99.990</td>\n",
       "      <td>0.009</td>\n",
       "      <td>0.000</td>\n",
       "      <td>0.000</td>\n",
       "    </tr>\n",
       "    <tr>\n",
       "      <th>4</th>\n",
       "      <td>68ed5c65e936feb652c092a28b783778</td>\n",
       "      <td>75</td>\n",
       "      <td>444</td>\n",
       "      <td>52</td>\n",
       "      <td>52</td>\n",
       "      <td>Female</td>\n",
       "      <td>28.0</td>\n",
       "      <td>99.999</td>\n",
       "      <td>50.0</td>\n",
       "      <td>0.001</td>\n",
       "      <td>0.001</td>\n",
       "      <td>0.027</td>\n",
       "      <td>99.933</td>\n",
       "      <td>0.027</td>\n",
       "      <td>0.010</td>\n",
       "      <td>0.001</td>\n",
       "    </tr>\n",
       "    <tr>\n",
       "      <th>5</th>\n",
       "      <td>afa4245ad59620abc2217b9eaee7e752</td>\n",
       "      <td>98</td>\n",
       "      <td>537</td>\n",
       "      <td>48</td>\n",
       "      <td>48</td>\n",
       "      <td>NaN</td>\n",
       "      <td>NaN</td>\n",
       "      <td>NaN</td>\n",
       "      <td>NaN</td>\n",
       "      <td>NaN</td>\n",
       "      <td>NaN</td>\n",
       "      <td>NaN</td>\n",
       "      <td>NaN</td>\n",
       "      <td>NaN</td>\n",
       "      <td>NaN</td>\n",
       "      <td>NaN</td>\n",
       "    </tr>\n",
       "  </tbody>\n",
       "</table>\n",
       "</div>"
      ],
      "text/plain": [
       "                         face_token  face_rectangle.top  face_rectangle.left  \\\n",
       "0  52b408e7950610f4acd97a3694f02a3b                 123                  138   \n",
       "1  ce5ae4dc76f997888e23e919f78c2d5b                 122                  373   \n",
       "2  fd6a9cea80f34670372261658f68379e                  46                  675   \n",
       "3  ced6f3b543fc84a007309d82d94571df                  98                  235   \n",
       "4  68ed5c65e936feb652c092a28b783778                  75                  444   \n",
       "5  afa4245ad59620abc2217b9eaee7e752                  98                  537   \n",
       "\n",
       "   face_rectangle.width  face_rectangle.height attributes.gender.value  \\\n",
       "0                    90                     90                    Male   \n",
       "1                    65                     65                  Female   \n",
       "2                    54                     54                    Male   \n",
       "3                    53                     53                  Female   \n",
       "4                    52                     52                  Female   \n",
       "5                    48                     48                     NaN   \n",
       "\n",
       "   attributes.age.value  attributes.smile.value  attributes.smile.threshold  \\\n",
       "0                  23.0                  99.995                        50.0   \n",
       "1                  37.0                  98.866                        50.0   \n",
       "2                  23.0                 100.000                        50.0   \n",
       "3                  22.0                  99.997                        50.0   \n",
       "4                  28.0                  99.999                        50.0   \n",
       "5                   NaN                     NaN                         NaN   \n",
       "\n",
       "   attributes.emotion.anger  attributes.emotion.disgust  \\\n",
       "0                     0.059                       0.059   \n",
       "1                     0.169                       7.280   \n",
       "2                     0.000                       0.000   \n",
       "3                     0.000                       0.001   \n",
       "4                     0.001                       0.001   \n",
       "5                       NaN                         NaN   \n",
       "\n",
       "   attributes.emotion.fear  attributes.emotion.happiness  \\\n",
       "0                    0.059                        42.294   \n",
       "1                    0.138                        17.689   \n",
       "2                    0.000                        99.996   \n",
       "3                    0.000                        99.990   \n",
       "4                    0.027                        99.933   \n",
       "5                      NaN                           NaN   \n",
       "\n",
       "   attributes.emotion.neutral  attributes.emotion.sadness  \\\n",
       "0                      52.431                       4.920   \n",
       "1                       8.067                      66.519   \n",
       "2                       0.001                       0.002   \n",
       "3                       0.009                       0.000   \n",
       "4                       0.027                       0.010   \n",
       "5                         NaN                         NaN   \n",
       "\n",
       "   attributes.emotion.surprise  \n",
       "0                        0.179  \n",
       "1                        0.138  \n",
       "2                        0.001  \n",
       "3                        0.000  \n",
       "4                        0.001  \n",
       "5                          NaN  "
      ]
     },
     "execution_count": 84,
     "metadata": {},
     "output_type": "execute_result"
    }
   ],
   "source": [
    "df = pd.json_normalize(results,record_path='faces')         #黑魔法\n",
    "df"
   ]
  },
  {
   "cell_type": "code",
   "execution_count": 85,
   "metadata": {
    "ExecuteTime": {
     "end_time": "2020-04-02T12:53:57.898530Z",
     "start_time": "2020-04-02T12:53:57.878630Z"
    }
   },
   "outputs": [
    {
     "data": {
      "text/html": [
       "<div>\n",
       "<style scoped>\n",
       "    .dataframe tbody tr th:only-of-type {\n",
       "        vertical-align: middle;\n",
       "    }\n",
       "\n",
       "    .dataframe tbody tr th {\n",
       "        vertical-align: top;\n",
       "    }\n",
       "\n",
       "    .dataframe thead th {\n",
       "        text-align: right;\n",
       "    }\n",
       "</style>\n",
       "<table border=\"1\" class=\"dataframe\">\n",
       "  <thead>\n",
       "    <tr style=\"text-align: right;\">\n",
       "      <th></th>\n",
       "      <th>face_token</th>\n",
       "      <th>attributes.smile.value</th>\n",
       "      <th>attributes.emotion.anger</th>\n",
       "      <th>attributes.emotion.disgust</th>\n",
       "      <th>attributes.emotion.fear</th>\n",
       "      <th>attributes.emotion.happiness</th>\n",
       "      <th>attributes.emotion.neutral</th>\n",
       "      <th>attributes.emotion.sadness</th>\n",
       "      <th>attributes.emotion.surprise</th>\n",
       "    </tr>\n",
       "  </thead>\n",
       "  <tbody>\n",
       "    <tr>\n",
       "      <th>0</th>\n",
       "      <td>52b408e7950610f4acd97a3694f02a3b</td>\n",
       "      <td>99.995</td>\n",
       "      <td>0.059</td>\n",
       "      <td>0.059</td>\n",
       "      <td>0.059</td>\n",
       "      <td>42.294</td>\n",
       "      <td>52.431</td>\n",
       "      <td>4.920</td>\n",
       "      <td>0.179</td>\n",
       "    </tr>\n",
       "    <tr>\n",
       "      <th>1</th>\n",
       "      <td>ce5ae4dc76f997888e23e919f78c2d5b</td>\n",
       "      <td>98.866</td>\n",
       "      <td>0.169</td>\n",
       "      <td>7.280</td>\n",
       "      <td>0.138</td>\n",
       "      <td>17.689</td>\n",
       "      <td>8.067</td>\n",
       "      <td>66.519</td>\n",
       "      <td>0.138</td>\n",
       "    </tr>\n",
       "    <tr>\n",
       "      <th>2</th>\n",
       "      <td>fd6a9cea80f34670372261658f68379e</td>\n",
       "      <td>100.000</td>\n",
       "      <td>0.000</td>\n",
       "      <td>0.000</td>\n",
       "      <td>0.000</td>\n",
       "      <td>99.996</td>\n",
       "      <td>0.001</td>\n",
       "      <td>0.002</td>\n",
       "      <td>0.001</td>\n",
       "    </tr>\n",
       "    <tr>\n",
       "      <th>3</th>\n",
       "      <td>ced6f3b543fc84a007309d82d94571df</td>\n",
       "      <td>99.997</td>\n",
       "      <td>0.000</td>\n",
       "      <td>0.001</td>\n",
       "      <td>0.000</td>\n",
       "      <td>99.990</td>\n",
       "      <td>0.009</td>\n",
       "      <td>0.000</td>\n",
       "      <td>0.000</td>\n",
       "    </tr>\n",
       "    <tr>\n",
       "      <th>4</th>\n",
       "      <td>68ed5c65e936feb652c092a28b783778</td>\n",
       "      <td>99.999</td>\n",
       "      <td>0.001</td>\n",
       "      <td>0.001</td>\n",
       "      <td>0.027</td>\n",
       "      <td>99.933</td>\n",
       "      <td>0.027</td>\n",
       "      <td>0.010</td>\n",
       "      <td>0.001</td>\n",
       "    </tr>\n",
       "    <tr>\n",
       "      <th>5</th>\n",
       "      <td>afa4245ad59620abc2217b9eaee7e752</td>\n",
       "      <td>NaN</td>\n",
       "      <td>NaN</td>\n",
       "      <td>NaN</td>\n",
       "      <td>NaN</td>\n",
       "      <td>NaN</td>\n",
       "      <td>NaN</td>\n",
       "      <td>NaN</td>\n",
       "      <td>NaN</td>\n",
       "    </tr>\n",
       "  </tbody>\n",
       "</table>\n",
       "</div>"
      ],
      "text/plain": [
       "                         face_token  attributes.smile.value  \\\n",
       "0  52b408e7950610f4acd97a3694f02a3b                  99.995   \n",
       "1  ce5ae4dc76f997888e23e919f78c2d5b                  98.866   \n",
       "2  fd6a9cea80f34670372261658f68379e                 100.000   \n",
       "3  ced6f3b543fc84a007309d82d94571df                  99.997   \n",
       "4  68ed5c65e936feb652c092a28b783778                  99.999   \n",
       "5  afa4245ad59620abc2217b9eaee7e752                     NaN   \n",
       "\n",
       "   attributes.emotion.anger  attributes.emotion.disgust  \\\n",
       "0                     0.059                       0.059   \n",
       "1                     0.169                       7.280   \n",
       "2                     0.000                       0.000   \n",
       "3                     0.000                       0.001   \n",
       "4                     0.001                       0.001   \n",
       "5                       NaN                         NaN   \n",
       "\n",
       "   attributes.emotion.fear  attributes.emotion.happiness  \\\n",
       "0                    0.059                        42.294   \n",
       "1                    0.138                        17.689   \n",
       "2                    0.000                        99.996   \n",
       "3                    0.000                        99.990   \n",
       "4                    0.027                        99.933   \n",
       "5                      NaN                           NaN   \n",
       "\n",
       "   attributes.emotion.neutral  attributes.emotion.sadness  \\\n",
       "0                      52.431                       4.920   \n",
       "1                       8.067                      66.519   \n",
       "2                       0.001                       0.002   \n",
       "3                       0.009                       0.000   \n",
       "4                       0.027                       0.010   \n",
       "5                         NaN                         NaN   \n",
       "\n",
       "   attributes.emotion.surprise  \n",
       "0                        0.179  \n",
       "1                        0.138  \n",
       "2                        0.001  \n",
       "3                        0.000  \n",
       "4                        0.001  \n",
       "5                          NaN  "
      ]
     },
     "execution_count": 85,
     "metadata": {},
     "output_type": "execute_result"
    }
   ],
   "source": [
    "df_face_emotion = df[['face_token','attributes.smile.value','attributes.emotion.anger','attributes.emotion.disgust','attributes.emotion.fear','attributes.emotion.happiness','attributes.emotion.neutral','attributes.emotion.sadness','attributes.emotion.surprise']]\n",
    "df_face_emotion"
   ]
  },
  {
   "cell_type": "markdown",
   "metadata": {},
   "source": [
    "# 百度智能云"
   ]
  },
  {
   "cell_type": "code",
   "execution_count": 86,
   "metadata": {
    "ExecuteTime": {
     "end_time": "2020-04-02T12:53:57.908531Z",
     "start_time": "2020-04-02T12:53:57.899533Z"
    },
    "scrolled": true
   },
   "outputs": [],
   "source": [
    "# import requests \n",
    "\n",
    "# # client_id 为官网获取的AK， client_secret 为官网获取的SK\n",
    "# host = 'https://aip.baidubce.com/oauth/2.0/token?grant_type=client_credentials&client_id=Fht7Rmlqf5XXIe2XH7c0vskU&client_secret=5hz97gRo95eGS3rgVPagXtHkpBTP73Rr'\n",
    "# response = requests.get(host)\n",
    "# if response:\n",
    "#     print(response.json())"
   ]
  },
  {
   "cell_type": "code",
   "execution_count": 87,
   "metadata": {
    "ExecuteTime": {
     "end_time": "2020-04-02T12:53:59.057487Z",
     "start_time": "2020-04-02T12:53:58.001294Z"
    },
    "scrolled": false
   },
   "outputs": [
    {
     "data": {
      "text/html": [
       "<div>\n",
       "<style scoped>\n",
       "    .dataframe tbody tr th:only-of-type {\n",
       "        vertical-align: middle;\n",
       "    }\n",
       "\n",
       "    .dataframe tbody tr th {\n",
       "        vertical-align: top;\n",
       "    }\n",
       "\n",
       "    .dataframe thead th {\n",
       "        text-align: right;\n",
       "    }\n",
       "</style>\n",
       "<table border=\"1\" class=\"dataframe\">\n",
       "  <thead>\n",
       "    <tr style=\"text-align: right;\">\n",
       "      <th></th>\n",
       "      <th>words</th>\n",
       "    </tr>\n",
       "  </thead>\n",
       "  <tbody>\n",
       "    <tr>\n",
       "      <th>0</th>\n",
       "      <td>Stop</td>\n",
       "    </tr>\n",
       "    <tr>\n",
       "      <th>1</th>\n",
       "      <td>iolence</td>\n",
       "    </tr>\n",
       "    <tr>\n",
       "      <th>2</th>\n",
       "      <td>in accordance</td>\n",
       "    </tr>\n",
       "    <tr>\n",
       "      <th>3</th>\n",
       "      <td>with Law</td>\n",
       "    </tr>\n",
       "    <tr>\n",
       "      <th>4</th>\n",
       "      <td>依法制暴</td>\n",
       "    </tr>\n",
       "    <tr>\n",
       "      <th>5</th>\n",
       "      <td>嚴正執法嚴懲暴徒</td>\n",
       "    </tr>\n",
       "    <tr>\n",
       "      <th>6</th>\n",
       "      <td>還香港安寧</td>\n",
       "    </tr>\n",
       "  </tbody>\n",
       "</table>\n",
       "</div>"
      ],
      "text/plain": [
       "           words\n",
       "0           Stop\n",
       "1        iolence\n",
       "2  in accordance\n",
       "3       with Law\n",
       "4           依法制暴\n",
       "5       嚴正執法嚴懲暴徒\n",
       "6          還香港安寧"
      ]
     },
     "execution_count": 87,
     "metadata": {},
     "output_type": "execute_result"
    }
   ],
   "source": [
    "# 文字识别\n",
    "\n",
    "request_url = \"https://aip.baidubce.com/rest/2.0/ocr/v1/general_basic\"\n",
    "# 二进制方式打开图片文件\n",
    "f = open('3.jpg', 'rb')\n",
    "img = base64.b64encode(f.read())\n",
    "\n",
    "params = {\"image\":img}\n",
    "access_token = '24.92d4275492060ded6493dafa5edec136.2592000.1588421782.282335-19226232'\n",
    "request_url = request_url + \"?access_token=\" + access_token\n",
    "headers = {'content-type': 'application/x-www-form-urlencoded'}\n",
    "r = requests.post(request_url, data=params, headers=headers)\n",
    "results = r.json()\n",
    "results\n",
    "df = pd.json_normalize(results['words_result'])\n",
    "df"
   ]
  },
  {
   "cell_type": "markdown",
   "metadata": {},
   "source": [
    "# 腾讯AI"
   ]
  },
  {
   "cell_type": "code",
   "execution_count": 88,
   "metadata": {
    "ExecuteTime": {
     "end_time": "2020-04-02T12:53:59.062446Z",
     "start_time": "2020-04-02T12:53:59.058455Z"
    },
    "code_folding": []
   },
   "outputs": [],
   "source": [
    "# # // 图片base64编码\n",
    "# img_url = 'http://newmedia.nfu.edu.cn/wcy/wp-content/uploads/2018/04/post_20180424__NFU_DoraHacks_imoji%E5%9B%A2%E9%98%9F.jpg';\n",
    "\n",
    "# data = str(img_url)\n",
    "\n",
    "# base64 = base64.b64encode(data.read())\n",
    "# # // 设置请求数据\n",
    "# appkey = 'rOtIhG8Bip95pvoX';\n",
    "\n",
    "# params = {\n",
    "#     'app_id': '1000001',\n",
    "#     'image': base64,\n",
    "#     'mode': '0',\n",
    "#     'time_stamp': 'str(time())',\n",
    "#     'nonce_str': 'str(rand())',\n",
    "#     'sign': '',\n",
    "# }\n",
    "\n",
    "# params['sign'] = getReqSign(params,appkey);\n",
    "# r = requests.post(img_url, data=json.dumps(data), params=params)\n",
    "# # // 执行API调用\n",
    "# url = 'https://api.ai.qq.com/fcgi-bin/face/face_detectface';\n",
    "# response = requests.post(url, params);\n",
    "# results = r.json()\n",
    "# results"
   ]
  },
  {
   "cell_type": "markdown",
   "metadata": {},
   "source": [
    "# 高德地图"
   ]
  },
  {
   "cell_type": "code",
   "execution_count": 89,
   "metadata": {
    "ExecuteTime": {
     "end_time": "2020-04-02T12:53:59.160061Z",
     "start_time": "2020-04-02T12:53:59.065967Z"
    }
   },
   "outputs": [],
   "source": [
    "# BASE_URL = 'https://restapi.amap.com/v3/place/text?keywords=麦当劳&city=北京&offset=20&page=1&key={key}&extensions=base'\n",
    "\n",
    "# key = '317b2b98b27b266839553f10debb9b0f'\n",
    "# r = requests.get(url=url, timeout=30).text\n"
   ]
  },
  {
   "cell_type": "code",
   "execution_count": 90,
   "metadata": {
    "ExecuteTime": {
     "end_time": "2020-04-02T12:53:59.171991Z",
     "start_time": "2020-04-02T12:53:59.163016Z"
    }
   },
   "outputs": [],
   "source": [
    "# def parse_json(content_json):\n",
    "#     \"\"\"  解析json函数 \"\"\"\n",
    "#     result_json = json.loads(content_json)\n",
    "#     return result_json\n",
    "\n",
    "# def request_api(url):\n",
    "#     \"\"\" 请求高德api 解析json \"\"\"\n",
    "#     result = request_url_get(url)\n",
    "#     result_json = parse_json(result)\n",
    "#     return result_json"
   ]
  },
  {
   "cell_type": "code",
   "execution_count": 91,
   "metadata": {
    "ExecuteTime": {
     "end_time": "2020-04-02T12:53:59.183959Z",
     "start_time": "2020-04-02T12:53:59.172989Z"
    }
   },
   "outputs": [],
   "source": [
    "# def run():\n",
    "#     \"\"\" 运行函数 \"\"\"\n",
    "#     keywords = '麦当劳'\n",
    "#     city = 'beijing'\n",
    "#     key = read_key()\n",
    "#     offset = 20\n",
    "\n",
    "#     index_url = f'https://restapi.amap.com/v3/place/text?keywords={keywords}&city={city}&' \\\n",
    "#         f'offset={offset}&page=1&key={key}&extensions=base'\n",
    "#     index_result = request_api(index_url)\n",
    "#     pages = math.ceil(int(index_result['count']) / offset)  # 算出一共需要的总页数\n",
    "\n",
    "#     for page in range(1, pages + 1):\n",
    "#         url = f'https://restapi.amap.com/v3/place/text?keywords={keywords}&city={city}&' \\\n",
    "#             f'offset={offset}&page={page}&key={key}&extensions=base'\n",
    "#         result = request_api(url)\n",
    "#         print(result)\n",
    "    "
   ]
  },
  {
   "cell_type": "code",
   "execution_count": null,
   "metadata": {},
   "outputs": [],
   "source": []
  },
  {
   "cell_type": "code",
   "execution_count": null,
   "metadata": {},
   "outputs": [],
   "source": []
  }
 ],
 "metadata": {
  "kernelspec": {
   "display_name": "Python 3",
   "language": "python",
   "name": "python3"
  },
  "language_info": {
   "codemirror_mode": {
    "name": "ipython",
    "version": 3
   },
   "file_extension": ".py",
   "mimetype": "text/x-python",
   "name": "python",
   "nbconvert_exporter": "python",
   "pygments_lexer": "ipython3",
   "version": "3.6.10"
  },
  "toc": {
   "base_numbering": 1,
   "nav_menu": {},
   "number_sections": true,
   "sideBar": true,
   "skip_h1_title": false,
   "title_cell": "Table of Contents",
   "title_sidebar": "Contents",
   "toc_cell": false,
   "toc_position": {},
   "toc_section_display": true,
   "toc_window_display": false
  }
 },
 "nbformat": 4,
 "nbformat_minor": 2
}
