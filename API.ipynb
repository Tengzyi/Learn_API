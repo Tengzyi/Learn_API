{
 "cells": [
  {
   "cell_type": "code",
   "execution_count": 54,
   "metadata": {
    "ExecuteTime": {
     "end_time": "2020-04-02T09:02:13.426449Z",
     "start_time": "2020-04-02T09:02:13.420465Z"
    }
   },
   "outputs": [],
   "source": [
    "import requests\n",
    "import json\n",
    "import base64\n",
    "import pandas as pd\n",
    "from pandas.io.json import json_normalize\n"
   ]
  },
  {
   "cell_type": "markdown",
   "metadata": {},
   "source": [
    "# Azure"
   ]
  },
  {
   "cell_type": "code",
   "execution_count": 31,
   "metadata": {
    "ExecuteTime": {
     "end_time": "2020-04-02T07:25:22.512483Z",
     "start_time": "2020-04-02T07:25:22.508978Z"
    }
   },
   "outputs": [],
   "source": [
    "KEY = '7c8046139b42476c9024eb52305ae296'\n",
    "\n",
    "BASE_URL = 'https://eastasia.api.cognitive.microsoft.com/face/v1.0/detect' \n"
   ]
  },
  {
   "cell_type": "code",
   "execution_count": 32,
   "metadata": {
    "ExecuteTime": {
     "end_time": "2020-04-02T07:25:22.692180Z",
     "start_time": "2020-04-02T07:25:22.689207Z"
    }
   },
   "outputs": [],
   "source": [
    "HEADERS = {\n",
    "    # Request headers\n",
    "    'Content-Type': 'application/json',\n",
    "    'Ocp-Apim-Subscription-Key': '{}'.format(KEY),\n",
    "}\n",
    "\n",
    "img_url = 'http://newmedia.nfu.edu.cn/wcy/wp-content/uploads/2018/04/post_20180424__NFU_DoraHacks_imoji%E5%9B%A2%E9%98%9F.jpg'\n"
   ]
  },
  {
   "cell_type": "code",
   "execution_count": 33,
   "metadata": {
    "ExecuteTime": {
     "end_time": "2020-04-02T07:25:22.871225Z",
     "start_time": "2020-04-02T07:25:22.867267Z"
    }
   },
   "outputs": [],
   "source": [
    "data = {\n",
    "    'url': '{}'.format(img_url),\n",
    "}\n",
    "payload = {\n",
    "    'returnFaceId': 'true',\n",
    "    'returnFaceLandmarks': 'flase',\n",
    "    'returnFaceAttributes': '{}'.format('age,gender,glasses,emotion'), \n",
    "}"
   ]
  },
  {
   "cell_type": "code",
   "execution_count": 34,
   "metadata": {
    "ExecuteTime": {
     "end_time": "2020-04-02T07:25:23.663809Z",
     "start_time": "2020-04-02T07:25:23.038556Z"
    }
   },
   "outputs": [
    {
     "data": {
      "text/plain": [
       "<Response [401]>"
      ]
     },
     "execution_count": 34,
     "metadata": {},
     "output_type": "execute_result"
    }
   ],
   "source": [
    "r = requests.post(BASE_URL, data=json.dumps(data), params=payload, headers=HEADERS)\n",
    "\n",
    "r.status_code\n",
    "r.json()\n",
    "r"
   ]
  },
  {
   "cell_type": "markdown",
   "metadata": {
    "ExecuteTime": {
     "end_time": "2020-04-02T07:15:18.372582Z",
     "start_time": "2020-04-02T07:15:18.367539Z"
    }
   },
   "source": [
    "# Face ++"
   ]
  },
  {
   "cell_type": "code",
   "execution_count": 35,
   "metadata": {
    "ExecuteTime": {
     "end_time": "2020-04-02T07:25:23.676778Z",
     "start_time": "2020-04-02T07:25:23.668797Z"
    }
   },
   "outputs": [],
   "source": [
    "import requests\n",
    "api_secret = \"VNIdC6Cvmmmf5CnsQgkPUxQQL0iGThXl\"\n",
    "api_key = 'wNuZwzLRRI5RKFj_8EWjEht_HTrPtvRo'\n",
    "\n",
    "BASE_URL = 'https://api-cn.faceplusplus.com/facepp/v3/detect' \n",
    "img_url = 'http://newmedia.nfu.edu.cn/wcy/wp-content/uploads/2018/04/post_20180424__NFU_DoraHacks_imoji%E5%9B%A2%E9%98%9F.jpg'\n"
   ]
  },
  {
   "cell_type": "code",
   "execution_count": 36,
   "metadata": {
    "ExecuteTime": {
     "end_time": "2020-04-02T07:25:23.772204Z",
     "start_time": "2020-04-02T07:25:23.681761Z"
    }
   },
   "outputs": [],
   "source": [
    "headers = {\n",
    "    'Content-Type': 'application/json',\n",
    "}\n",
    "\n",
    "payload = {\n",
    "    \"image_url\":img_url,\n",
    "    'api_key': api_key,\n",
    "    'api_secret': api_secret,\n",
    "    'return_attributes':'gender,age,smiling,emotion', \n",
    "}"
   ]
  },
  {
   "cell_type": "code",
   "execution_count": 37,
   "metadata": {
    "ExecuteTime": {
     "end_time": "2020-04-02T07:25:24.292685Z",
     "start_time": "2020-04-02T07:25:23.773201Z"
    }
   },
   "outputs": [
    {
     "name": "stdout",
     "output_type": "stream",
     "text": [
      "b'{\"request_id\":\"1585812325,7c04a44d-a68a-4adc-a26a-e0e136729890\",\"time_used\":258,\"faces\":[{\"face_token\":\"5426e393eb2bfb784935a8745d93994e\",\"face_rectangle\":{\"top\":123,\"left\":138,\"width\":90,\"height\":90},\"attributes\":{\"gender\":{\"value\":\"Male\"},\"age\":{\"value\":23},\"smile\":{\"value\":99.995,\"threshold\":50.000},\"emotion\":{\"anger\":0.059,\"disgust\":0.059,\"fear\":0.059,\"happiness\":42.294,\"neutral\":52.431,\"sadness\":4.920,\"surprise\":0.179}}},{\"face_token\":\"bb3c2592011870ff0c24e9a7ea3af4d8\",\"face_rectangle\":{\"top\":122,\"left\":373,\"width\":65,\"height\":65},\"attributes\":{\"gender\":{\"value\":\"Female\"},\"age\":{\"value\":37},\"smile\":{\"value\":98.866,\"threshold\":50.000},\"emotion\":{\"anger\":0.169,\"disgust\":7.280,\"fear\":0.138,\"happiness\":17.689,\"neutral\":8.067,\"sadness\":66.519,\"surprise\":0.138}}},{\"face_token\":\"73df74972432ab5aa8dcc6c2e43e6324\",\"face_rectangle\":{\"top\":46,\"left\":675,\"width\":54,\"height\":54},\"attributes\":{\"gender\":{\"value\":\"Male\"},\"age\":{\"value\":23},\"smile\":{\"value\":100.000,\"threshold\":50.000},\"emotion\":{\"anger\":0.000,\"disgust\":0.000,\"fear\":0.000,\"happiness\":99.996,\"neutral\":0.001,\"sadness\":0.002,\"surprise\":0.001}}},{\"face_token\":\"46a4d03256ae7ca93a2eea6140b7e452\",\"face_rectangle\":{\"top\":98,\"left\":235,\"width\":53,\"height\":53},\"attributes\":{\"gender\":{\"value\":\"Female\"},\"age\":{\"value\":22},\"smile\":{\"value\":99.997,\"threshold\":50.000},\"emotion\":{\"anger\":0.000,\"disgust\":0.001,\"fear\":0.000,\"happiness\":99.990,\"neutral\":0.009,\"sadness\":0.000,\"surprise\":0.000}}},{\"face_token\":\"287607d88281b4835583b3c097f30f70\",\"face_rectangle\":{\"top\":75,\"left\":444,\"width\":52,\"height\":52},\"attributes\":{\"gender\":{\"value\":\"Female\"},\"age\":{\"value\":28},\"smile\":{\"value\":99.999,\"threshold\":50.000},\"emotion\":{\"anger\":0.001,\"disgust\":0.001,\"fear\":0.027,\"happiness\":99.933,\"neutral\":0.027,\"sadness\":0.010,\"surprise\":0.001}}},{\"face_token\":\"d50f164d6579ae464cbb7265a2350442\",\"face_rectangle\":{\"top\":98,\"left\":537,\"width\":48,\"height\":48}}],\"image_id\":\"TfC1AByqtXhfuQ6DruqVww==\",\"face_num\":6}\\n'\n"
     ]
    }
   ],
   "source": [
    "r = requests.post(BASE_URL, params=payload, headers=headers)\n",
    "\n",
    "r.status_code\n",
    "print(r.content)"
   ]
  },
  {
   "cell_type": "code",
   "execution_count": 38,
   "metadata": {
    "ExecuteTime": {
     "end_time": "2020-04-02T07:25:24.304818Z",
     "start_time": "2020-04-02T07:25:24.294821Z"
    }
   },
   "outputs": [
    {
     "data": {
      "text/plain": [
       "{'request_id': '1585812325,7c04a44d-a68a-4adc-a26a-e0e136729890',\n",
       " 'time_used': 258,\n",
       " 'faces': [{'face_token': '5426e393eb2bfb784935a8745d93994e',\n",
       "   'face_rectangle': {'top': 123, 'left': 138, 'width': 90, 'height': 90},\n",
       "   'attributes': {'gender': {'value': 'Male'},\n",
       "    'age': {'value': 23},\n",
       "    'smile': {'value': 99.995, 'threshold': 50.0},\n",
       "    'emotion': {'anger': 0.059,\n",
       "     'disgust': 0.059,\n",
       "     'fear': 0.059,\n",
       "     'happiness': 42.294,\n",
       "     'neutral': 52.431,\n",
       "     'sadness': 4.92,\n",
       "     'surprise': 0.179}}},\n",
       "  {'face_token': 'bb3c2592011870ff0c24e9a7ea3af4d8',\n",
       "   'face_rectangle': {'top': 122, 'left': 373, 'width': 65, 'height': 65},\n",
       "   'attributes': {'gender': {'value': 'Female'},\n",
       "    'age': {'value': 37},\n",
       "    'smile': {'value': 98.866, 'threshold': 50.0},\n",
       "    'emotion': {'anger': 0.169,\n",
       "     'disgust': 7.28,\n",
       "     'fear': 0.138,\n",
       "     'happiness': 17.689,\n",
       "     'neutral': 8.067,\n",
       "     'sadness': 66.519,\n",
       "     'surprise': 0.138}}},\n",
       "  {'face_token': '73df74972432ab5aa8dcc6c2e43e6324',\n",
       "   'face_rectangle': {'top': 46, 'left': 675, 'width': 54, 'height': 54},\n",
       "   'attributes': {'gender': {'value': 'Male'},\n",
       "    'age': {'value': 23},\n",
       "    'smile': {'value': 100.0, 'threshold': 50.0},\n",
       "    'emotion': {'anger': 0.0,\n",
       "     'disgust': 0.0,\n",
       "     'fear': 0.0,\n",
       "     'happiness': 99.996,\n",
       "     'neutral': 0.001,\n",
       "     'sadness': 0.002,\n",
       "     'surprise': 0.001}}},\n",
       "  {'face_token': '46a4d03256ae7ca93a2eea6140b7e452',\n",
       "   'face_rectangle': {'top': 98, 'left': 235, 'width': 53, 'height': 53},\n",
       "   'attributes': {'gender': {'value': 'Female'},\n",
       "    'age': {'value': 22},\n",
       "    'smile': {'value': 99.997, 'threshold': 50.0},\n",
       "    'emotion': {'anger': 0.0,\n",
       "     'disgust': 0.001,\n",
       "     'fear': 0.0,\n",
       "     'happiness': 99.99,\n",
       "     'neutral': 0.009,\n",
       "     'sadness': 0.0,\n",
       "     'surprise': 0.0}}},\n",
       "  {'face_token': '287607d88281b4835583b3c097f30f70',\n",
       "   'face_rectangle': {'top': 75, 'left': 444, 'width': 52, 'height': 52},\n",
       "   'attributes': {'gender': {'value': 'Female'},\n",
       "    'age': {'value': 28},\n",
       "    'smile': {'value': 99.999, 'threshold': 50.0},\n",
       "    'emotion': {'anger': 0.001,\n",
       "     'disgust': 0.001,\n",
       "     'fear': 0.027,\n",
       "     'happiness': 99.933,\n",
       "     'neutral': 0.027,\n",
       "     'sadness': 0.01,\n",
       "     'surprise': 0.001}}},\n",
       "  {'face_token': 'd50f164d6579ae464cbb7265a2350442',\n",
       "   'face_rectangle': {'top': 98, 'left': 537, 'width': 48, 'height': 48}}],\n",
       " 'image_id': 'TfC1AByqtXhfuQ6DruqVww==',\n",
       " 'face_num': 6}"
      ]
     },
     "execution_count": 38,
     "metadata": {},
     "output_type": "execute_result"
    }
   ],
   "source": [
    "results = r.json()\n",
    "results"
   ]
  },
  {
   "cell_type": "code",
   "execution_count": 39,
   "metadata": {
    "ExecuteTime": {
     "end_time": "2020-04-02T07:25:24.733207Z",
     "start_time": "2020-04-02T07:25:24.726225Z"
    }
   },
   "outputs": [
    {
     "data": {
      "text/plain": [
       "[{'face_token': '5426e393eb2bfb784935a8745d93994e',\n",
       "  'face_rectangle': {'top': 123, 'left': 138, 'width': 90, 'height': 90},\n",
       "  'attributes': {'gender': {'value': 'Male'},\n",
       "   'age': {'value': 23},\n",
       "   'smile': {'value': 99.995, 'threshold': 50.0},\n",
       "   'emotion': {'anger': 0.059,\n",
       "    'disgust': 0.059,\n",
       "    'fear': 0.059,\n",
       "    'happiness': 42.294,\n",
       "    'neutral': 52.431,\n",
       "    'sadness': 4.92,\n",
       "    'surprise': 0.179}}},\n",
       " {'face_token': 'bb3c2592011870ff0c24e9a7ea3af4d8',\n",
       "  'face_rectangle': {'top': 122, 'left': 373, 'width': 65, 'height': 65},\n",
       "  'attributes': {'gender': {'value': 'Female'},\n",
       "   'age': {'value': 37},\n",
       "   'smile': {'value': 98.866, 'threshold': 50.0},\n",
       "   'emotion': {'anger': 0.169,\n",
       "    'disgust': 7.28,\n",
       "    'fear': 0.138,\n",
       "    'happiness': 17.689,\n",
       "    'neutral': 8.067,\n",
       "    'sadness': 66.519,\n",
       "    'surprise': 0.138}}},\n",
       " {'face_token': '73df74972432ab5aa8dcc6c2e43e6324',\n",
       "  'face_rectangle': {'top': 46, 'left': 675, 'width': 54, 'height': 54},\n",
       "  'attributes': {'gender': {'value': 'Male'},\n",
       "   'age': {'value': 23},\n",
       "   'smile': {'value': 100.0, 'threshold': 50.0},\n",
       "   'emotion': {'anger': 0.0,\n",
       "    'disgust': 0.0,\n",
       "    'fear': 0.0,\n",
       "    'happiness': 99.996,\n",
       "    'neutral': 0.001,\n",
       "    'sadness': 0.002,\n",
       "    'surprise': 0.001}}},\n",
       " {'face_token': '46a4d03256ae7ca93a2eea6140b7e452',\n",
       "  'face_rectangle': {'top': 98, 'left': 235, 'width': 53, 'height': 53},\n",
       "  'attributes': {'gender': {'value': 'Female'},\n",
       "   'age': {'value': 22},\n",
       "   'smile': {'value': 99.997, 'threshold': 50.0},\n",
       "   'emotion': {'anger': 0.0,\n",
       "    'disgust': 0.001,\n",
       "    'fear': 0.0,\n",
       "    'happiness': 99.99,\n",
       "    'neutral': 0.009,\n",
       "    'sadness': 0.0,\n",
       "    'surprise': 0.0}}},\n",
       " {'face_token': '287607d88281b4835583b3c097f30f70',\n",
       "  'face_rectangle': {'top': 75, 'left': 444, 'width': 52, 'height': 52},\n",
       "  'attributes': {'gender': {'value': 'Female'},\n",
       "   'age': {'value': 28},\n",
       "   'smile': {'value': 99.999, 'threshold': 50.0},\n",
       "   'emotion': {'anger': 0.001,\n",
       "    'disgust': 0.001,\n",
       "    'fear': 0.027,\n",
       "    'happiness': 99.933,\n",
       "    'neutral': 0.027,\n",
       "    'sadness': 0.01,\n",
       "    'surprise': 0.001}}},\n",
       " {'face_token': 'd50f164d6579ae464cbb7265a2350442',\n",
       "  'face_rectangle': {'top': 98, 'left': 537, 'width': 48, 'height': 48}}]"
      ]
     },
     "execution_count": 39,
     "metadata": {},
     "output_type": "execute_result"
    }
   ],
   "source": [
    "results['faces']"
   ]
  },
  {
   "cell_type": "code",
   "execution_count": 42,
   "metadata": {
    "ExecuteTime": {
     "end_time": "2020-04-02T07:26:41.812426Z",
     "start_time": "2020-04-02T07:26:41.781731Z"
    }
   },
   "outputs": [
    {
     "data": {
      "text/html": [
       "<div>\n",
       "<style scoped>\n",
       "    .dataframe tbody tr th:only-of-type {\n",
       "        vertical-align: middle;\n",
       "    }\n",
       "\n",
       "    .dataframe tbody tr th {\n",
       "        vertical-align: top;\n",
       "    }\n",
       "\n",
       "    .dataframe thead th {\n",
       "        text-align: right;\n",
       "    }\n",
       "</style>\n",
       "<table border=\"1\" class=\"dataframe\">\n",
       "  <thead>\n",
       "    <tr style=\"text-align: right;\">\n",
       "      <th></th>\n",
       "      <th>face_token</th>\n",
       "      <th>face_rectangle.top</th>\n",
       "      <th>face_rectangle.left</th>\n",
       "      <th>face_rectangle.width</th>\n",
       "      <th>face_rectangle.height</th>\n",
       "      <th>attributes.gender.value</th>\n",
       "      <th>attributes.age.value</th>\n",
       "      <th>attributes.smile.value</th>\n",
       "      <th>attributes.smile.threshold</th>\n",
       "      <th>attributes.emotion.anger</th>\n",
       "      <th>attributes.emotion.disgust</th>\n",
       "      <th>attributes.emotion.fear</th>\n",
       "      <th>attributes.emotion.happiness</th>\n",
       "      <th>attributes.emotion.neutral</th>\n",
       "      <th>attributes.emotion.sadness</th>\n",
       "      <th>attributes.emotion.surprise</th>\n",
       "    </tr>\n",
       "  </thead>\n",
       "  <tbody>\n",
       "    <tr>\n",
       "      <th>0</th>\n",
       "      <td>5426e393eb2bfb784935a8745d93994e</td>\n",
       "      <td>123</td>\n",
       "      <td>138</td>\n",
       "      <td>90</td>\n",
       "      <td>90</td>\n",
       "      <td>Male</td>\n",
       "      <td>23.0</td>\n",
       "      <td>99.995</td>\n",
       "      <td>50.0</td>\n",
       "      <td>0.059</td>\n",
       "      <td>0.059</td>\n",
       "      <td>0.059</td>\n",
       "      <td>42.294</td>\n",
       "      <td>52.431</td>\n",
       "      <td>4.920</td>\n",
       "      <td>0.179</td>\n",
       "    </tr>\n",
       "    <tr>\n",
       "      <th>1</th>\n",
       "      <td>bb3c2592011870ff0c24e9a7ea3af4d8</td>\n",
       "      <td>122</td>\n",
       "      <td>373</td>\n",
       "      <td>65</td>\n",
       "      <td>65</td>\n",
       "      <td>Female</td>\n",
       "      <td>37.0</td>\n",
       "      <td>98.866</td>\n",
       "      <td>50.0</td>\n",
       "      <td>0.169</td>\n",
       "      <td>7.280</td>\n",
       "      <td>0.138</td>\n",
       "      <td>17.689</td>\n",
       "      <td>8.067</td>\n",
       "      <td>66.519</td>\n",
       "      <td>0.138</td>\n",
       "    </tr>\n",
       "    <tr>\n",
       "      <th>2</th>\n",
       "      <td>73df74972432ab5aa8dcc6c2e43e6324</td>\n",
       "      <td>46</td>\n",
       "      <td>675</td>\n",
       "      <td>54</td>\n",
       "      <td>54</td>\n",
       "      <td>Male</td>\n",
       "      <td>23.0</td>\n",
       "      <td>100.000</td>\n",
       "      <td>50.0</td>\n",
       "      <td>0.000</td>\n",
       "      <td>0.000</td>\n",
       "      <td>0.000</td>\n",
       "      <td>99.996</td>\n",
       "      <td>0.001</td>\n",
       "      <td>0.002</td>\n",
       "      <td>0.001</td>\n",
       "    </tr>\n",
       "    <tr>\n",
       "      <th>3</th>\n",
       "      <td>46a4d03256ae7ca93a2eea6140b7e452</td>\n",
       "      <td>98</td>\n",
       "      <td>235</td>\n",
       "      <td>53</td>\n",
       "      <td>53</td>\n",
       "      <td>Female</td>\n",
       "      <td>22.0</td>\n",
       "      <td>99.997</td>\n",
       "      <td>50.0</td>\n",
       "      <td>0.000</td>\n",
       "      <td>0.001</td>\n",
       "      <td>0.000</td>\n",
       "      <td>99.990</td>\n",
       "      <td>0.009</td>\n",
       "      <td>0.000</td>\n",
       "      <td>0.000</td>\n",
       "    </tr>\n",
       "    <tr>\n",
       "      <th>4</th>\n",
       "      <td>287607d88281b4835583b3c097f30f70</td>\n",
       "      <td>75</td>\n",
       "      <td>444</td>\n",
       "      <td>52</td>\n",
       "      <td>52</td>\n",
       "      <td>Female</td>\n",
       "      <td>28.0</td>\n",
       "      <td>99.999</td>\n",
       "      <td>50.0</td>\n",
       "      <td>0.001</td>\n",
       "      <td>0.001</td>\n",
       "      <td>0.027</td>\n",
       "      <td>99.933</td>\n",
       "      <td>0.027</td>\n",
       "      <td>0.010</td>\n",
       "      <td>0.001</td>\n",
       "    </tr>\n",
       "    <tr>\n",
       "      <th>5</th>\n",
       "      <td>d50f164d6579ae464cbb7265a2350442</td>\n",
       "      <td>98</td>\n",
       "      <td>537</td>\n",
       "      <td>48</td>\n",
       "      <td>48</td>\n",
       "      <td>NaN</td>\n",
       "      <td>NaN</td>\n",
       "      <td>NaN</td>\n",
       "      <td>NaN</td>\n",
       "      <td>NaN</td>\n",
       "      <td>NaN</td>\n",
       "      <td>NaN</td>\n",
       "      <td>NaN</td>\n",
       "      <td>NaN</td>\n",
       "      <td>NaN</td>\n",
       "      <td>NaN</td>\n",
       "    </tr>\n",
       "  </tbody>\n",
       "</table>\n",
       "</div>"
      ],
      "text/plain": [
       "                         face_token  face_rectangle.top  ...  attributes.emotion.sadness  attributes.emotion.surprise\n",
       "0  5426e393eb2bfb784935a8745d93994e                 123  ...                       4.920                        0.179\n",
       "1  bb3c2592011870ff0c24e9a7ea3af4d8                 122  ...                      66.519                        0.138\n",
       "2  73df74972432ab5aa8dcc6c2e43e6324                  46  ...                       0.002                        0.001\n",
       "3  46a4d03256ae7ca93a2eea6140b7e452                  98  ...                       0.000                        0.000\n",
       "4  287607d88281b4835583b3c097f30f70                  75  ...                       0.010                        0.001\n",
       "5  d50f164d6579ae464cbb7265a2350442                  98  ...                         NaN                          NaN\n",
       "\n",
       "[6 rows x 16 columns]"
      ]
     },
     "execution_count": 42,
     "metadata": {},
     "output_type": "execute_result"
    }
   ],
   "source": [
    "df = pd.json_normalize(results,record_path='faces')         #黑魔法\n",
    "df"
   ]
  },
  {
   "cell_type": "code",
   "execution_count": 44,
   "metadata": {
    "ExecuteTime": {
     "end_time": "2020-04-02T07:30:04.249910Z",
     "start_time": "2020-04-02T07:30:04.224766Z"
    }
   },
   "outputs": [
    {
     "data": {
      "text/html": [
       "<div>\n",
       "<style scoped>\n",
       "    .dataframe tbody tr th:only-of-type {\n",
       "        vertical-align: middle;\n",
       "    }\n",
       "\n",
       "    .dataframe tbody tr th {\n",
       "        vertical-align: top;\n",
       "    }\n",
       "\n",
       "    .dataframe thead th {\n",
       "        text-align: right;\n",
       "    }\n",
       "</style>\n",
       "<table border=\"1\" class=\"dataframe\">\n",
       "  <thead>\n",
       "    <tr style=\"text-align: right;\">\n",
       "      <th></th>\n",
       "      <th>face_token</th>\n",
       "      <th>attributes.smile.value</th>\n",
       "      <th>attributes.smile.threshold</th>\n",
       "      <th>attributes.emotion.anger</th>\n",
       "      <th>attributes.emotion.disgust</th>\n",
       "      <th>attributes.emotion.fear</th>\n",
       "      <th>attributes.emotion.happiness</th>\n",
       "      <th>attributes.emotion.neutral</th>\n",
       "      <th>attributes.emotion.sadness</th>\n",
       "      <th>attributes.emotion.surprise</th>\n",
       "    </tr>\n",
       "  </thead>\n",
       "  <tbody>\n",
       "    <tr>\n",
       "      <th>0</th>\n",
       "      <td>5426e393eb2bfb784935a8745d93994e</td>\n",
       "      <td>99.995</td>\n",
       "      <td>50.0</td>\n",
       "      <td>0.059</td>\n",
       "      <td>0.059</td>\n",
       "      <td>0.059</td>\n",
       "      <td>42.294</td>\n",
       "      <td>52.431</td>\n",
       "      <td>4.920</td>\n",
       "      <td>0.179</td>\n",
       "    </tr>\n",
       "    <tr>\n",
       "      <th>1</th>\n",
       "      <td>bb3c2592011870ff0c24e9a7ea3af4d8</td>\n",
       "      <td>98.866</td>\n",
       "      <td>50.0</td>\n",
       "      <td>0.169</td>\n",
       "      <td>7.280</td>\n",
       "      <td>0.138</td>\n",
       "      <td>17.689</td>\n",
       "      <td>8.067</td>\n",
       "      <td>66.519</td>\n",
       "      <td>0.138</td>\n",
       "    </tr>\n",
       "    <tr>\n",
       "      <th>2</th>\n",
       "      <td>73df74972432ab5aa8dcc6c2e43e6324</td>\n",
       "      <td>100.000</td>\n",
       "      <td>50.0</td>\n",
       "      <td>0.000</td>\n",
       "      <td>0.000</td>\n",
       "      <td>0.000</td>\n",
       "      <td>99.996</td>\n",
       "      <td>0.001</td>\n",
       "      <td>0.002</td>\n",
       "      <td>0.001</td>\n",
       "    </tr>\n",
       "    <tr>\n",
       "      <th>3</th>\n",
       "      <td>46a4d03256ae7ca93a2eea6140b7e452</td>\n",
       "      <td>99.997</td>\n",
       "      <td>50.0</td>\n",
       "      <td>0.000</td>\n",
       "      <td>0.001</td>\n",
       "      <td>0.000</td>\n",
       "      <td>99.990</td>\n",
       "      <td>0.009</td>\n",
       "      <td>0.000</td>\n",
       "      <td>0.000</td>\n",
       "    </tr>\n",
       "    <tr>\n",
       "      <th>4</th>\n",
       "      <td>287607d88281b4835583b3c097f30f70</td>\n",
       "      <td>99.999</td>\n",
       "      <td>50.0</td>\n",
       "      <td>0.001</td>\n",
       "      <td>0.001</td>\n",
       "      <td>0.027</td>\n",
       "      <td>99.933</td>\n",
       "      <td>0.027</td>\n",
       "      <td>0.010</td>\n",
       "      <td>0.001</td>\n",
       "    </tr>\n",
       "    <tr>\n",
       "      <th>5</th>\n",
       "      <td>d50f164d6579ae464cbb7265a2350442</td>\n",
       "      <td>NaN</td>\n",
       "      <td>NaN</td>\n",
       "      <td>NaN</td>\n",
       "      <td>NaN</td>\n",
       "      <td>NaN</td>\n",
       "      <td>NaN</td>\n",
       "      <td>NaN</td>\n",
       "      <td>NaN</td>\n",
       "      <td>NaN</td>\n",
       "    </tr>\n",
       "  </tbody>\n",
       "</table>\n",
       "</div>"
      ],
      "text/plain": [
       "                         face_token  attributes.smile.value  ...  attributes.emotion.sadness  attributes.emotion.surprise\n",
       "0  5426e393eb2bfb784935a8745d93994e                  99.995  ...                       4.920                        0.179\n",
       "1  bb3c2592011870ff0c24e9a7ea3af4d8                  98.866  ...                      66.519                        0.138\n",
       "2  73df74972432ab5aa8dcc6c2e43e6324                 100.000  ...                       0.002                        0.001\n",
       "3  46a4d03256ae7ca93a2eea6140b7e452                  99.997  ...                       0.000                        0.000\n",
       "4  287607d88281b4835583b3c097f30f70                  99.999  ...                       0.010                        0.001\n",
       "5  d50f164d6579ae464cbb7265a2350442                     NaN  ...                         NaN                          NaN\n",
       "\n",
       "[6 rows x 10 columns]"
      ]
     },
     "execution_count": 44,
     "metadata": {},
     "output_type": "execute_result"
    }
   ],
   "source": [
    "df_face_emotion = df[['face_token','attributes.smile.value','attributes.smile.threshold','attributes.emotion.anger','attributes.emotion.disgust','attributes.emotion.fear','attributes.emotion.happiness','attributes.emotion.neutral','attributes.emotion.sadness','attributes.emotion.surprise']]\n",
    "df_face_emotion"
   ]
  },
  {
   "cell_type": "markdown",
   "metadata": {},
   "source": [
    "# 百度智能云"
   ]
  },
  {
   "cell_type": "code",
   "execution_count": 88,
   "metadata": {
    "ExecuteTime": {
     "end_time": "2020-04-02T10:05:25.275059Z",
     "start_time": "2020-04-02T10:05:25.056639Z"
    },
    "scrolled": false
   },
   "outputs": [
    {
     "data": {
      "text/plain": [
       "{'error_code': 110, 'error_msg': 'Access token invalid or no longer valid'}"
      ]
     },
     "execution_count": 88,
     "metadata": {},
     "output_type": "execute_result"
    }
   ],
   "source": [
    "# 文字识别\n",
    "\n",
    "request_url = \"https://aip.baidubce.com/rest/2.0/ocr/v1/general_basic\"\n",
    "# 二进制方式打开图片文件\n",
    "f = open('2.jpg', 'rb')\n",
    "img = base64.b64encode(f.read())\n",
    "\n",
    "params = {\"image\":img}\n",
    "access_token = '[调用鉴权接口获取的token]'\n",
    "request_url = request_url + \"?access_token=\" + access_token\n",
    "headers = {'content-type': 'application/x-www-form-urlencoded'}\n",
    "r = requests.post(request_url, data=params, headers=headers)\n",
    "results = r.json()\n",
    "results\n",
    "# df = pd.json_normalize(r)\n",
    "# df"
   ]
  },
  {
   "cell_type": "markdown",
   "metadata": {},
   "source": [
    "# 腾讯AI"
   ]
  },
  {
   "cell_type": "code",
   "execution_count": 73,
   "metadata": {
    "ExecuteTime": {
     "end_time": "2020-04-02T09:46:57.915350Z",
     "start_time": "2020-04-02T09:46:57.901352Z"
    },
    "code_folding": []
   },
   "outputs": [
    {
     "ename": "AttributeError",
     "evalue": "'str' object has no attribute 'read'",
     "output_type": "error",
     "traceback": [
      "\u001b[1;31m---------------------------------------------------------------------------\u001b[0m",
      "\u001b[1;31mAttributeError\u001b[0m                            Traceback (most recent call last)",
      "\u001b[1;32m<ipython-input-73-770e649f7f7e>\u001b[0m in \u001b[0;36m<module>\u001b[1;34m\u001b[0m\n\u001b[0;32m      4\u001b[0m \u001b[0mdata\u001b[0m \u001b[1;33m=\u001b[0m \u001b[0mstr\u001b[0m\u001b[1;33m(\u001b[0m\u001b[0mimg_url\u001b[0m\u001b[1;33m)\u001b[0m\u001b[1;33m\u001b[0m\u001b[1;33m\u001b[0m\u001b[0m\n\u001b[0;32m      5\u001b[0m \u001b[1;33m\u001b[0m\u001b[0m\n\u001b[1;32m----> 6\u001b[1;33m \u001b[0mbase64\u001b[0m \u001b[1;33m=\u001b[0m \u001b[0mbase64\u001b[0m\u001b[1;33m.\u001b[0m\u001b[0mb64encode\u001b[0m\u001b[1;33m(\u001b[0m\u001b[0mdata\u001b[0m\u001b[1;33m.\u001b[0m\u001b[0mread\u001b[0m\u001b[1;33m(\u001b[0m\u001b[1;33m)\u001b[0m\u001b[1;33m)\u001b[0m\u001b[1;33m\u001b[0m\u001b[1;33m\u001b[0m\u001b[0m\n\u001b[0m\u001b[0;32m      7\u001b[0m \u001b[1;31m# // 设置请求数据\u001b[0m\u001b[1;33m\u001b[0m\u001b[1;33m\u001b[0m\u001b[1;33m\u001b[0m\u001b[0m\n\u001b[0;32m      8\u001b[0m \u001b[0mappkey\u001b[0m \u001b[1;33m=\u001b[0m \u001b[1;34m'rOtIhG8Bip95pvoX'\u001b[0m\u001b[1;33m;\u001b[0m\u001b[1;33m\u001b[0m\u001b[1;33m\u001b[0m\u001b[0m\n",
      "\u001b[1;31mAttributeError\u001b[0m: 'str' object has no attribute 'read'"
     ]
    }
   ],
   "source": [
    "# # // 图片base64编码\n",
    "# img_url = 'http://newmedia.nfu.edu.cn/wcy/wp-content/uploads/2018/04/post_20180424__NFU_DoraHacks_imoji%E5%9B%A2%E9%98%9F.jpg';\n",
    "\n",
    "# data = str(img_url)\n",
    "\n",
    "# base64 = base64.b64encode(data.read())\n",
    "# # // 设置请求数据\n",
    "# appkey = 'rOtIhG8Bip95pvoX';\n",
    "\n",
    "# params = {\n",
    "#     'app_id': '1000001',\n",
    "#     'image': base64,\n",
    "#     'mode': '0',\n",
    "#     'time_stamp': 'str(time())',\n",
    "#     'nonce_str': 'str(rand())',\n",
    "#     'sign': '',\n",
    "# }\n",
    "\n",
    "# params['sign'] = getReqSign(params,appkey);\n",
    "# r = requests.post(img_url, data=json.dumps(data), params=params)\n",
    "# # // 执行API调用\n",
    "# url = 'https://api.ai.qq.com/fcgi-bin/face/face_detectface';\n",
    "# response = requests.post(url, params);\n",
    "# results = r.json()\n",
    "# results"
   ]
  },
  {
   "cell_type": "markdown",
   "metadata": {},
   "source": [
    "# 高德地图"
   ]
  },
  {
   "cell_type": "code",
   "execution_count": 64,
   "metadata": {
    "ExecuteTime": {
     "end_time": "2020-04-02T09:27:44.667497Z",
     "start_time": "2020-04-02T09:27:44.661477Z"
    }
   },
   "outputs": [],
   "source": [
    "# BASE_URL = 'https://restapi.amap.com/v3/place/text?keywords=麦当劳&city=北京&offset=20&page=1&key={key}&extensions=base'\n",
    "\n",
    "# key = '317b2b98b27b266839553f10debb9b0f'\n",
    "# r = requests.get(url=url, timeout=30).text\n"
   ]
  },
  {
   "cell_type": "code",
   "execution_count": 65,
   "metadata": {
    "ExecuteTime": {
     "end_time": "2020-04-02T09:27:44.826566Z",
     "start_time": "2020-04-02T09:27:44.823570Z"
    }
   },
   "outputs": [],
   "source": [
    "# def parse_json(content_json):\n",
    "#     \"\"\"  解析json函数 \"\"\"\n",
    "#     result_json = json.loads(content_json)\n",
    "#     return result_json\n",
    "\n",
    "# def request_api(url):\n",
    "#     \"\"\" 请求高德api 解析json \"\"\"\n",
    "#     result = request_url_get(url)\n",
    "#     result_json = parse_json(result)\n",
    "#     return result_json"
   ]
  },
  {
   "cell_type": "code",
   "execution_count": 66,
   "metadata": {
    "ExecuteTime": {
     "end_time": "2020-04-02T09:27:45.011750Z",
     "start_time": "2020-04-02T09:27:45.007734Z"
    }
   },
   "outputs": [],
   "source": [
    "# def run():\n",
    "#     \"\"\" 运行函数 \"\"\"\n",
    "#     keywords = '麦当劳'\n",
    "#     city = 'beijing'\n",
    "#     key = read_key()\n",
    "#     offset = 20\n",
    "\n",
    "#     index_url = f'https://restapi.amap.com/v3/place/text?keywords={keywords}&city={city}&' \\\n",
    "#         f'offset={offset}&page=1&key={key}&extensions=base'\n",
    "#     index_result = request_api(index_url)\n",
    "#     pages = math.ceil(int(index_result['count']) / offset)  # 算出一共需要的总页数\n",
    "\n",
    "#     for page in range(1, pages + 1):\n",
    "#         url = f'https://restapi.amap.com/v3/place/text?keywords={keywords}&city={city}&' \\\n",
    "#             f'offset={offset}&page={page}&key={key}&extensions=base'\n",
    "#         result = request_api(url)\n",
    "#         print(result)\n",
    "    "
   ]
  }
 ],
 "metadata": {
  "kernelspec": {
   "display_name": "Python 3",
   "language": "python",
   "name": "python3"
  },
  "language_info": {
   "codemirror_mode": {
    "name": "ipython",
    "version": 3
   },
   "file_extension": ".py",
   "mimetype": "text/x-python",
   "name": "python",
   "nbconvert_exporter": "python",
   "pygments_lexer": "ipython3",
   "version": "3.6.10"
  },
  "toc": {
   "base_numbering": 1,
   "nav_menu": {},
   "number_sections": true,
   "sideBar": true,
   "skip_h1_title": false,
   "title_cell": "Table of Contents",
   "title_sidebar": "Contents",
   "toc_cell": false,
   "toc_position": {},
   "toc_section_display": true,
   "toc_window_display": false
  }
 },
 "nbformat": 4,
 "nbformat_minor": 2
}
